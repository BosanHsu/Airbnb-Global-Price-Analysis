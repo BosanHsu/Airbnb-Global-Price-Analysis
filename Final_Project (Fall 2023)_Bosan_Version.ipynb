{
 "cells": [
  {
   "cell_type": "markdown",
   "metadata": {},
   "source": [
    "# DAT561 Final Project (Fall 2023)"
   ]
  },
  {
   "cell_type": "markdown",
   "metadata": {},
   "source": [
    "**Note**: Please be creative in defining the new variables as part of the data manipulation and write your description at the end of each code as the comment. We will read your logic and description for the assessment.\n",
    "\n",
    "\n",
    "**Part 1**: \n",
    "75 points (85 points with the extra credits in the Bonus Question)"
   ]
  },
  {
   "cell_type": "code",
   "execution_count": 2,
   "metadata": {},
   "outputs": [],
   "source": [
    "import numpy as np\n",
    "import pandas as pd"
   ]
  },
  {
   "cell_type": "code",
   "execution_count": 3,
   "metadata": {},
   "outputs": [],
   "source": [
    "# Read the dataset here\n",
    "Property_details = pd.read_csv(\"Property_details.csv\")\n",
    "# You may use Tkinter library\n",
    "Order_details = pd.read_csv(\"Order_details.csv\", encoding='ISO-8859-1')"
   ]
  },
  {
   "cell_type": "markdown",
   "metadata": {},
   "source": [
    "### Question 1\n",
    "\n",
    "**Part (a)**: How many properties are there in the region with the zip code of 84600? \n",
    "\n",
    "**Part (b)**: What is the mean, standard deviation, median, min, and max of “starratings” for all properties in the region with the zip code of 84600?\n"
   ]
  },
  {
   "cell_type": "code",
   "execution_count": 4,
   "metadata": {},
   "outputs": [
    {
     "data": {
      "text/plain": [
       "104"
      ]
     },
     "execution_count": 4,
     "metadata": {},
     "output_type": "execute_result"
    }
   ],
   "source": [
    "# Part (a):\n",
    "properties_in_84600 = Property_details[Property_details[\"zipcode\"] == 84600]\n",
    "properties_in_84600.shape[0]"
   ]
  },
  {
   "cell_type": "code",
   "execution_count": 5,
   "metadata": {},
   "outputs": [
    {
     "data": {
      "text/html": [
       "<div>\n",
       "<style scoped>\n",
       "    .dataframe tbody tr th:only-of-type {\n",
       "        vertical-align: middle;\n",
       "    }\n",
       "\n",
       "    .dataframe tbody tr th {\n",
       "        vertical-align: top;\n",
       "    }\n",
       "\n",
       "    .dataframe thead th {\n",
       "        text-align: right;\n",
       "    }\n",
       "</style>\n",
       "<table border=\"1\" class=\"dataframe\">\n",
       "  <thead>\n",
       "    <tr style=\"text-align: right;\">\n",
       "      <th></th>\n",
       "      <th>mean</th>\n",
       "      <th>std</th>\n",
       "      <th>amin</th>\n",
       "      <th>amax</th>\n",
       "    </tr>\n",
       "    <tr>\n",
       "      <th>zipcode</th>\n",
       "      <th></th>\n",
       "      <th></th>\n",
       "      <th></th>\n",
       "      <th></th>\n",
       "    </tr>\n",
       "  </thead>\n",
       "  <tbody>\n",
       "    <tr>\n",
       "      <th>84600.0</th>\n",
       "      <td>3.461538</td>\n",
       "      <td>0.709479</td>\n",
       "      <td>2</td>\n",
       "      <td>4</td>\n",
       "    </tr>\n",
       "  </tbody>\n",
       "</table>\n",
       "</div>"
      ],
      "text/plain": [
       "             mean       std  amin  amax\n",
       "zipcode                                \n",
       "84600.0  3.461538  0.709479     2     4"
      ]
     },
     "execution_count": 5,
     "metadata": {},
     "output_type": "execute_result"
    }
   ],
   "source": [
    "# Part (b):\n",
    "properties_in_84600.groupby(by=\"zipcode\")[\"starrating\"].agg([np.mean, np.std, np.min, np.max])"
   ]
  },
  {
   "cell_type": "markdown",
   "metadata": {},
   "source": [
    "### Question 2\n",
    "\n",
    "**Part (a)**: Create a new column called \"weekday\", which is the day of the “reservation date” in one week (for example, if the reservation date is 2021/10/22, the corresponding value in the new column \"weekday\" should be “Fri”).\n",
    "\n",
    "**Part (b)**: Which weekday receives an above-average number of reservations compared to all records?"
   ]
  },
  {
   "cell_type": "code",
   "execution_count": 6,
   "metadata": {},
   "outputs": [
    {
     "data": {
      "text/plain": [
       "0         Sat\n",
       "1         Sat\n",
       "2         Fri\n",
       "3         Sat\n",
       "4         Sat\n",
       "         ... \n",
       "165868    Tue\n",
       "165869    Tue\n",
       "165870    Tue\n",
       "165871    Tue\n",
       "165872    Tue\n",
       "Name: weekday, Length: 165873, dtype: object"
      ]
     },
     "execution_count": 6,
     "metadata": {},
     "output_type": "execute_result"
    }
   ],
   "source": [
    "# Part (a):\n",
    "Order_details[\"reservation date\"] = pd.to_datetime(Order_details[\"reservation date\"])\n",
    "Order_details[\"weekday\"] = Order_details[\"reservation date\"].dt.strftime('%a')\n",
    "Order_details[\"weekday\"]"
   ]
  },
  {
   "cell_type": "code",
   "execution_count": 7,
   "metadata": {},
   "outputs": [
    {
     "data": {
      "text/plain": [
       "Thu    26589\n",
       "Mon    26539\n",
       "Tue    24275\n",
       "Wed    24082\n",
       "Name: weekday, dtype: int64"
      ]
     },
     "execution_count": 7,
     "metadata": {},
     "output_type": "execute_result"
    }
   ],
   "source": [
    "# Part (b):\n",
    "weekday_counts = Order_details[\"weekday\"].value_counts()\n",
    "average = weekday_counts.mean()\n",
    "above_average = weekday_counts[weekday_counts > average]\n",
    "above_average"
   ]
  },
  {
   "cell_type": "markdown",
   "metadata": {},
   "source": [
    "### Question 3\n",
    "\n",
    "**Part (a)**: In “roomamenities”, what are the top 10 common room amenities in single rooms (rooms with a maxoccupancy of 1)? A what about the 10 least common room amenities in single rooms? (For example, Air conditioning is one amenity)\n",
    "\n",
    "**Part (b)**: What percentage does each type of room amenities occupy of the total number of reservations for single rooms?(Do not use the total number of amenities as denominator）"
   ]
  },
  {
   "cell_type": "code",
   "execution_count": 9,
   "metadata": {},
   "outputs": [
    {
     "name": "stdout",
     "output_type": "stream",
     "text": [
      "most common: \n",
      "Air conditioning            83913\n",
      "In-room safe box            83913\n",
      "Free Wi-Fi in all rooms!    82341\n",
      "Hair dryer                  61079\n",
      "Telephone                   57610\n",
      "Toiletries                  57397\n",
      "Desk                        55988\n",
      "Heating                     55773\n",
      "Closet                      52029\n",
      "Satellite/cable channels    51822\n",
      "Name: roomamenities, dtype: int64\n",
      "\n",
      "least common: \n",
      "Open air bath privileges    12\n",
      "Hot tub                     13\n",
      "Vending machine             16\n",
      "Humidifier                  21\n",
      "TV [in bathroom]            24\n",
      "Internet access ï¿?LAN      26\n",
      "Scale                       35\n",
      "Air purifier                46\n",
      "First aid kit               56\n",
      "In-room tablet              63\n",
      "Name: roomamenities, dtype: int64\n"
     ]
    }
   ],
   "source": [
    "# You can deceide whether to display you output for 3(a) and 3(b) separately or together\n",
    "Single_Room = Order_details[Order_details['maxoccupancy'] == 1]\n",
    "amenities = Single_Room['roomamenities'].str.split(': ;').explode()\n",
    "amenities = amenities[amenities.str.strip() != '']\n",
    "\n",
    "top_10_common = amenities.value_counts().head(10)\n",
    "least_10_common = amenities.value_counts().sort_values().head(10)\n",
    "\n",
    "print(\"most common: \")\n",
    "print(top_10_common)\n",
    "print(\"\")\n",
    "print(\"least common: \")\n",
    "print(least_10_common)"
   ]
  },
  {
   "cell_type": "code",
   "execution_count": 10,
   "metadata": {
    "scrolled": true
   },
   "outputs": [
    {
     "data": {
      "text/plain": [
       "Air conditioning            6.455949\n",
       "In-room safe box            6.455949\n",
       "Free Wi-Fi in all rooms!    6.335005\n",
       "Hair dryer                  4.699187\n",
       "Telephone                   4.432295\n",
       "                              ...   \n",
       "TV [in bathroom]            0.001846\n",
       "Humidifier                  0.001616\n",
       "Vending machine             0.001231\n",
       "Hot tub                     0.001000\n",
       "Open air bath privileges    0.000923\n",
       "Name: roomamenities, Length: 91, dtype: float64"
      ]
     },
     "execution_count": 10,
     "metadata": {},
     "output_type": "execute_result"
    }
   ],
   "source": [
    "amenities_counts = amenities.value_counts()\n",
    "total_amenities = amenities_counts.sum()\n",
    "amenities_percentage = amenities_counts / total_amenities * 100\n",
    "amenities_percentage"
   ]
  },
  {
   "cell_type": "markdown",
   "metadata": {},
   "source": [
    "### Question 4\n",
    "\n",
    "**Part (a)**: For each property, there are some abnormal values of 0 in the “onsiteprice”. To better organize the data, you would like to create a new column “replaced onsiteprice” in the dataset by retaining the original non-zero “onsiteprice” of one specific property and replacing the zero value with its median of non-zero “onsiteprice”.\n",
    "\n",
    "**Part (b)**: For each property, calculate the maximum and minimum value of “replaced onsiteprice”, and store these two into corresponding two columns named “Maximum” and “Minimum”. Then create a column named “Normalized Maximum” to store the normalized form of the “Maximum” column. You can use the formula below for the normalization (do not round the result). Store the “hotelcode”, “Maximum”, “Minimum”, “Normalized Maximum” to \"Max_Min Price.csv\". \n",
    "$ X_{norm} = \\frac{X-X_{min}}{X_\\max-X_{min}}$"
   ]
  },
  {
   "cell_type": "code",
   "execution_count": null,
   "metadata": {},
   "outputs": [],
   "source": []
  },
  {
   "cell_type": "code",
   "execution_count": 12,
   "metadata": {},
   "outputs": [],
   "source": [
    "# Part (a):\n",
    "price_median_by_type = Order_details[Order_details['onsiteprice'] != 0].groupby('propertycode')['onsiteprice'].median()\n",
    "Order_details['replaced_onsiteprice'] = Order_details['onsiteprice']\n",
    "\n",
    "for property_code, median_price in price_median_by_type.items():\n",
    "    condition = (Order_details['propertycode'] == property_code) & (Order_details['onsiteprice'] == 0)\n",
    "    Order_details.loc[condition, 'replaced_onsiteprice'] = median_price"
   ]
  },
  {
   "cell_type": "code",
   "execution_count": 13,
   "metadata": {
    "scrolled": true
   },
   "outputs": [],
   "source": [
    "# Part (b):\n",
    "max_min = Order_details.groupby('propertycode')['replaced_onsiteprice'].agg(['max', 'min'])\n",
    "max_min.columns = ['Maximum', 'Minimum']\n",
    "\n",
    "Order_details = Order_details.merge(max_min, on='propertycode', how='left')\n",
    "\n",
    "# Normalized Maximum\n",
    "Order_details['Normalized_Maximum'] = (Order_details['onsiteprice'] - Order_details['Minimum']) / (Order_details['Maximum'] - Order_details['Minimum'])\n",
    "\n",
    "Order_details['hotelcode'] = Order_details['propertycode']\n",
    "Order_details[['hotelcode', 'Maximum', 'Minimum', 'Normalized_Maximum']].to_csv('Max_Min_Price.csv', index=False)\n"
   ]
  },
  {
   "cell_type": "markdown",
   "metadata": {},
   "source": [
    "### Question 5\n",
    "\n",
    "**Part (a)**: A party of three is planning a trip. How many available hotels do offer a room with the “maxoccupancy” of 3 or more? Available hotel are those whose “propertype” are “Hotels”, “close” are “N”, and “hotelblock” are not “sold out” .\n",
    "\n",
    "**Part (b)**: If this party does not want to pay a room for a “replaced onsiteprice” higher than 150 per night, how many hotels are still available? Use the maximum of “replaced onsiteprice” to compare with 150 due to price fluctuation. \n"
   ]
  },
  {
   "cell_type": "code",
   "execution_count": 14,
   "metadata": {},
   "outputs": [
    {
     "data": {
      "text/html": [
       "<div>\n",
       "<style scoped>\n",
       "    .dataframe tbody tr th:only-of-type {\n",
       "        vertical-align: middle;\n",
       "    }\n",
       "\n",
       "    .dataframe tbody tr th {\n",
       "        vertical-align: top;\n",
       "    }\n",
       "\n",
       "    .dataframe thead th {\n",
       "        text-align: right;\n",
       "    }\n",
       "</style>\n",
       "<table border=\"1\" class=\"dataframe\">\n",
       "  <thead>\n",
       "    <tr style=\"text-align: right;\">\n",
       "      <th></th>\n",
       "      <th>id</th>\n",
       "      <th>propertycode</th>\n",
       "      <th>dtcollected</th>\n",
       "      <th>reservation date</th>\n",
       "      <th>los</th>\n",
       "      <th>guests</th>\n",
       "      <th>roomtype</th>\n",
       "      <th>onsiteprice</th>\n",
       "      <th>ratedescription</th>\n",
       "      <th>ratetype</th>\n",
       "      <th>...</th>\n",
       "      <th>propertyname</th>\n",
       "      <th>address</th>\n",
       "      <th>city</th>\n",
       "      <th>country</th>\n",
       "      <th>zipcode</th>\n",
       "      <th>propertytype</th>\n",
       "      <th>starrating</th>\n",
       "      <th>latitude</th>\n",
       "      <th>longitude</th>\n",
       "      <th>url</th>\n",
       "    </tr>\n",
       "  </thead>\n",
       "  <tbody>\n",
       "    <tr>\n",
       "      <th>0</th>\n",
       "      <td>50677497</td>\n",
       "      <td>634876</td>\n",
       "      <td>10/12/2019 15:46</td>\n",
       "      <td>2019-11-02</td>\n",
       "      <td>1</td>\n",
       "      <td>1</td>\n",
       "      <td>Double Room</td>\n",
       "      <td>82.36</td>\n",
       "      <td>Room size: 15 mÂ²/161 ftÂ², Shower, 1 king bed</td>\n",
       "      <td>Cancellation policy</td>\n",
       "      <td>...</td>\n",
       "      <td>The Old Cider House</td>\n",
       "      <td>25 Castle Street</td>\n",
       "      <td>Nether Stowey</td>\n",
       "      <td>United Kingdom</td>\n",
       "      <td>NaN</td>\n",
       "      <td>Hotels</td>\n",
       "      <td>4</td>\n",
       "      <td>51.150921</td>\n",
       "      <td>-3.15847</td>\n",
       "      <td>https://www.agoda.com/en-gb/the-old-cider-hous...</td>\n",
       "    </tr>\n",
       "    <tr>\n",
       "      <th>1</th>\n",
       "      <td>50672149</td>\n",
       "      <td>8328096</td>\n",
       "      <td>10/12/2019 15:47</td>\n",
       "      <td>2019-11-30</td>\n",
       "      <td>1</td>\n",
       "      <td>1</td>\n",
       "      <td>Vacation Home</td>\n",
       "      <td>636.09</td>\n",
       "      <td>Shower, Kitchenette, 2 bedrooms, 1 double bed ...</td>\n",
       "      <td>Cancellation policy</td>\n",
       "      <td>...</td>\n",
       "      <td>Pantlleni</td>\n",
       "      <td>NaN</td>\n",
       "      <td>Beddgelert</td>\n",
       "      <td>United Kingdom</td>\n",
       "      <td>NaN</td>\n",
       "      <td>Hotels</td>\n",
       "      <td>3</td>\n",
       "      <td>53.042229</td>\n",
       "      <td>-4.03318</td>\n",
       "      <td>https://www.agoda.com/en-gb/pantlleni/hotel/be...</td>\n",
       "    </tr>\n",
       "    <tr>\n",
       "      <th>2</th>\n",
       "      <td>50643430</td>\n",
       "      <td>8323442</td>\n",
       "      <td>10/12/2019 15:47</td>\n",
       "      <td>2019-12-20</td>\n",
       "      <td>1</td>\n",
       "      <td>1</td>\n",
       "      <td>Vacation Home</td>\n",
       "      <td>591.74</td>\n",
       "      <td>Shower, Kitchenette, 2 bedrooms, 1 double bed ...</td>\n",
       "      <td>Extra low price! (non-refundable)</td>\n",
       "      <td>...</td>\n",
       "      <td>Willow Cottage</td>\n",
       "      <td>NaN</td>\n",
       "      <td>Beverley</td>\n",
       "      <td>United Kingdom</td>\n",
       "      <td>NaN</td>\n",
       "      <td>Hotels</td>\n",
       "      <td>3</td>\n",
       "      <td>53.843220</td>\n",
       "      <td>-0.49797</td>\n",
       "      <td>https://www.agoda.com/en-gb/willow-cottage/hot...</td>\n",
       "    </tr>\n",
       "  </tbody>\n",
       "</table>\n",
       "<p>3 rows × 38 columns</p>\n",
       "</div>"
      ],
      "text/plain": [
       "         id  propertycode       dtcollected reservation date  los  guests  \\\n",
       "0  50677497        634876  10/12/2019 15:46       2019-11-02    1       1   \n",
       "1  50672149       8328096  10/12/2019 15:47       2019-11-30    1       1   \n",
       "2  50643430       8323442  10/12/2019 15:47       2019-12-20    1       1   \n",
       "\n",
       "        roomtype  onsiteprice  \\\n",
       "0    Double Room        82.36   \n",
       "1  Vacation Home       636.09   \n",
       "2  Vacation Home       591.74   \n",
       "\n",
       "                                     ratedescription  \\\n",
       "0     Room size: 15 mÂ²/161 ftÂ², Shower, 1 king bed   \n",
       "1  Shower, Kitchenette, 2 bedrooms, 1 double bed ...   \n",
       "2  Shower, Kitchenette, 2 bedrooms, 1 double bed ...   \n",
       "\n",
       "                            ratetype  ...         propertyname  \\\n",
       "0                Cancellation policy  ...  The Old Cider House   \n",
       "1                Cancellation policy  ...            Pantlleni   \n",
       "2  Extra low price! (non-refundable)  ...       Willow Cottage   \n",
       "\n",
       "            address           city         country zipcode  propertytype  \\\n",
       "0  25 Castle Street  Nether Stowey  United Kingdom     NaN        Hotels   \n",
       "1               NaN     Beddgelert  United Kingdom     NaN        Hotels   \n",
       "2               NaN       Beverley  United Kingdom     NaN        Hotels   \n",
       "\n",
       "  starrating   latitude longitude  \\\n",
       "0          4  51.150921  -3.15847   \n",
       "1          3  53.042229  -4.03318   \n",
       "2          3  53.843220  -0.49797   \n",
       "\n",
       "                                                 url  \n",
       "0  https://www.agoda.com/en-gb/the-old-cider-hous...  \n",
       "1  https://www.agoda.com/en-gb/pantlleni/hotel/be...  \n",
       "2  https://www.agoda.com/en-gb/willow-cottage/hot...  \n",
       "\n",
       "[3 rows x 38 columns]"
      ]
     },
     "execution_count": 14,
     "metadata": {},
     "output_type": "execute_result"
    }
   ],
   "source": [
    "Order_x_Property = Order_details.merge(Property_details, how = \"left\", left_on = \"propertycode\", right_on = \"propertyid\")\n",
    "Order_x_Property.head(3)"
   ]
  },
  {
   "cell_type": "code",
   "execution_count": 15,
   "metadata": {},
   "outputs": [
    {
     "data": {
      "text/plain": [
       "3085"
      ]
     },
     "execution_count": 15,
     "metadata": {},
     "output_type": "execute_result"
    }
   ],
   "source": [
    "# Part (a):\n",
    "\n",
    "available_hotels = Order_details[\n",
    "    (Order_x_Property['propertytype'] == 'Hotels') &\n",
    "    (Order_x_Property['closed'] == 'N') &\n",
    "    (Order_x_Property['hotelblock'] != 'sold out') &\n",
    "    (Order_x_Property['maxoccupancy'] >= 3)\n",
    "]\n",
    "\n",
    "len( available_hotels['propertycode'].unique() )"
   ]
  },
  {
   "cell_type": "code",
   "execution_count": 16,
   "metadata": {},
   "outputs": [
    {
     "data": {
      "text/plain": [
       "1713"
      ]
     },
     "execution_count": 16,
     "metadata": {},
     "output_type": "execute_result"
    }
   ],
   "source": [
    "# Part (b):\n",
    "\n",
    "available_hotels_2 = Order_details[\n",
    "    (Order_x_Property['propertytype'] == 'Hotels') &\n",
    "    (Order_x_Property['closed'] == 'N') &\n",
    "    (Order_x_Property['hotelblock'] != 'sold out') &\n",
    "    (Order_x_Property['maxoccupancy'] >= 3) &\n",
    "    (Order_x_Property['Maximum'] >= 150)\n",
    "]\n",
    "\n",
    "len( available_hotels_2['propertycode'].unique() )"
   ]
  },
  {
   "cell_type": "markdown",
   "metadata": {},
   "source": [
    "### Bonus Question:\n",
    "\n",
    "Merge data, filter, groupby, merge three times\n",
    "\n",
    "**Part (a)**: For each country, find the most expensive property by using “replaced onsiteprice”. Provide id, name, rating, city, country, zip code, address, and average “replaced onsiteprice” of these properties.\n",
    "\n",
    "**Part (b)**: For each country, find the cheapest property by using “replaced onsiteprice”. Provide id, name, rating, city, country, zip code, address, and average “replaced onsiteprice” of these properties.\n",
    "\n",
    "**Hint**: Each country has numbers of hotels, and each hotel has numbers of prices due to price fluctuation. You need to find the average “replaced onsiteprice” for each hotel first, and sort out the cheapest and the most expensive hotels then.\n",
    "\n"
   ]
  },
  {
   "cell_type": "code",
   "execution_count": 17,
   "metadata": {},
   "outputs": [
    {
     "name": "stdout",
     "output_type": "stream",
     "text": [
      "    propertyid       propertyname  starrating          city         country  \\\n",
      "0       130055                NaN         NaN           NaN         Austria   \n",
      "1        49541                NaN         NaN           NaN         Belgium   \n",
      "2      7503033                NaN         NaN           NaN        Bulgaria   \n",
      "3       112561                NaN         NaN           NaN         Croatia   \n",
      "4       152681                NaN         NaN           NaN          Cyprus   \n",
      "5       367192                NaN         NaN           NaN  Czech Republic   \n",
      "6      6720996                NaN         NaN           NaN         Denmark   \n",
      "7         2202                NaN         NaN           NaN         Estonia   \n",
      "8       365601  HavsVidden Resort         4.0          Geta         Finland   \n",
      "9       442720       Hotel Astrid         4.0       Lourdes          France   \n",
      "10      442720       Hotel Astrid         4.0       Lourdes          France   \n",
      "11      442720       Hotel Astrid         4.0       Lourdes          France   \n",
      "12      442720       Hotel Astrid         4.0       Lourdes          France   \n",
      "13      442720       Hotel Astrid         4.0       Lourdes          France   \n",
      "14      442720       Hotel Astrid         4.0       Lourdes          France   \n",
      "15      442720       Hotel Astrid         4.0       Lourdes          France   \n",
      "16      442720       Hotel Astrid         4.0       Lourdes          France   \n",
      "17     6582086                NaN         NaN           NaN         Germany   \n",
      "18      239165     Anatolia Hotel         4.0       Mykonos          Greece   \n",
      "19      239165     Anatolia Hotel         4.0       Mykonos          Greece   \n",
      "20      274319                NaN         NaN           NaN         Hungary   \n",
      "21     2425325                NaN         NaN           NaN         Ireland   \n",
      "22     6986740                NaN         NaN           NaN           Italy   \n",
      "23       99770                NaN         NaN           NaN          Latvia   \n",
      "24      313224                NaN         NaN           NaN       Lithuania   \n",
      "25      118921                NaN         NaN           NaN      Luxembourg   \n",
      "26         834                NaN         NaN           NaN           Malta   \n",
      "27     2159425                NaN         NaN           NaN     Netherlands   \n",
      "28      272128                NaN         NaN           NaN          Poland   \n",
      "29     7238072                NaN         NaN           NaN        Portugal   \n",
      "30      288688                NaN         NaN           NaN         Romania   \n",
      "31      325384                NaN         NaN           NaN        Slovakia   \n",
      "32     2729537                NaN         NaN           NaN        Slovenia   \n",
      "33     8651540                NaN         NaN           NaN           Spain   \n",
      "34     5925673                NaN         NaN           NaN          Sweden   \n",
      "35      392207  Chalet Mont Bijou         3.0     Veysonnaz     Switzerland   \n",
      "36     8328294   Crackington Vean         4.0  Saint Gennys  United Kingdom   \n",
      "\n",
      "    zipcode            address  replaced_onsiteprice  \n",
      "0       NaN                NaN            655.020000  \n",
      "1       NaN                NaN            403.902979  \n",
      "2       NaN                NaN           1072.850000  \n",
      "3       NaN                NaN            920.066216  \n",
      "4       NaN                NaN            304.798466  \n",
      "5       NaN                NaN            676.515714  \n",
      "6       NaN                NaN            288.985946  \n",
      "7       NaN                NaN            200.326364  \n",
      "8   22340.0  Havsviddsvagen 90            512.370000  \n",
      "9   65100.0     Place Merlasse          11367.060000  \n",
      "10  65100.0     Place Merlasse          11367.060000  \n",
      "11  65100.0     Place Merlasse          11367.060000  \n",
      "12  65100.0     Place Merlasse          11367.060000  \n",
      "13  65100.0     Place Merlasse          11367.060000  \n",
      "14  65100.0     Place Merlasse          11367.060000  \n",
      "15  65100.0     Place Merlasse          11367.060000  \n",
      "16  65100.0     Place Merlasse          11367.060000  \n",
      "17      NaN                NaN           1264.736111  \n",
      "18  84600.0           Ano Mera           4795.000000  \n",
      "19  84600.0           Ano Mera           4795.000000  \n",
      "20      NaN                NaN           3231.450000  \n",
      "21      NaN                NaN            468.972222  \n",
      "22      NaN                NaN           1123.194474  \n",
      "23      NaN                NaN            214.780517  \n",
      "24      NaN                NaN            297.371667  \n",
      "25      NaN                NaN            285.215000  \n",
      "26      NaN                NaN            435.057037  \n",
      "27      NaN                NaN            394.116333  \n",
      "28      NaN                NaN            241.548607  \n",
      "29      NaN                NaN            418.487692  \n",
      "30      NaN                NaN            303.765455  \n",
      "31      NaN                NaN            234.076667  \n",
      "32      NaN                NaN            231.935565  \n",
      "33      NaN                NaN           1072.585000  \n",
      "34      NaN                NaN            293.379286  \n",
      "35   1993.0             Salins            623.390000  \n",
      "36      NaN                NaN           2257.980000  \n"
     ]
    }
   ],
   "source": [
    "# Part (a):\n",
    "each_country_each_hotel = Order_x_Property.groupby( by = ['country','propertyid'])['replaced_onsiteprice'].agg(np.mean).reset_index()\n",
    "each_country_each_hotel\n",
    "\n",
    "max_price_per_country = each_country_each_hotel.groupby(by = ['country'])['replaced_onsiteprice'].agg(np.max).reset_index()\n",
    "max_price_per_country # no id now\n",
    "\n",
    "# show id again\n",
    "most_expensive_properties_id = max_price_per_country.merge(each_country_each_hotel, on=['country', 'replaced_onsiteprice'], how='left')\n",
    "most_expensive_properties_id \n",
    "\n",
    "# whole info\n",
    "most_expensive_properties = most_expensive_properties_id.merge(Order_x_Property, on=['country', 'replaced_onsiteprice', 'propertyid'], how='left')\n",
    "most_expensive_properties\n",
    "\n",
    "columns = ['propertyid', 'propertyname', 'starrating', 'city', 'country', 'zipcode', 'address', 'replaced_onsiteprice']\n",
    "most_expensive_properties = most_expensive_properties[columns]\n",
    "print(most_expensive_properties)\n"
   ]
  },
  {
   "cell_type": "code",
   "execution_count": 18,
   "metadata": {},
   "outputs": [
    {
     "name": "stdout",
     "output_type": "stream",
     "text": [
      "    propertyid                            propertyname  starrating  \\\n",
      "0      6537481                          Dolomitenhotel         3.0   \n",
      "1       174732                                     NaN         NaN   \n",
      "2       449128                                     NaN         NaN   \n",
      "3      1177961                                     NaN         NaN   \n",
      "4       184567                                     NaN         NaN   \n",
      "5       390933                    Hotel Praded Jesenik         2.0   \n",
      "6      6629907                                     NaN         NaN   \n",
      "7      7621602                                     NaN         NaN   \n",
      "8       887106                                     NaN         NaN   \n",
      "9      7600445                         Studio Moncoeur         3.0   \n",
      "10      115079                              Hotel Adam         2.0   \n",
      "11     5302869                                     NaN         NaN   \n",
      "12      454523                                     NaN         NaN   \n",
      "13      332464                                     NaN         NaN   \n",
      "14     7083537                                     NaN         NaN   \n",
      "15       82640                                     NaN         NaN   \n",
      "16      161149                              Tako Baras         3.0   \n",
      "17      158021                                     NaN         NaN   \n",
      "18       63759                                     NaN         NaN   \n",
      "19     4542308                                     NaN         NaN   \n",
      "20     8115168                                     NaN         NaN   \n",
      "21      974553                           Hotel do Cais         2.0   \n",
      "22     1966150                          Hanul cu Flori         3.0   \n",
      "23     1966150                          Hanul cu Flori         3.0   \n",
      "24     1966150                          Hanul cu Flori         3.0   \n",
      "25     1966150                          Hanul cu Flori         3.0   \n",
      "26     4215763                                     NaN         NaN   \n",
      "27     5913415                                     NaN         NaN   \n",
      "28       67687                                     NaN         NaN   \n",
      "29     7889101                                     NaN         NaN   \n",
      "30      183217                                     NaN         NaN   \n",
      "31     3755609  Travelodge Sunderland High Street West         3.0   \n",
      "32     3755609  Travelodge Sunderland High Street West         3.0   \n",
      "\n",
      "                city         country   zipcode  \\\n",
      "0              Lienz         Austria    9900.0   \n",
      "1                NaN         Belgium       NaN   \n",
      "2                NaN        Bulgaria       NaN   \n",
      "3                NaN         Croatia       NaN   \n",
      "4                NaN          Cyprus       NaN   \n",
      "5            Jesenik  Czech Republic   79001.0   \n",
      "6                NaN         Denmark       NaN   \n",
      "7                NaN         Estonia       NaN   \n",
      "8                NaN         Finland       NaN   \n",
      "9           Le Blanc          France   36300.0   \n",
      "10            Berlin         Germany   10627.0   \n",
      "11               NaN          Greece       NaN   \n",
      "12               NaN         Hungary       NaN   \n",
      "13               NaN         Ireland       NaN   \n",
      "14               NaN           Italy       NaN   \n",
      "15               NaN          Latvia       NaN   \n",
      "16          Klaipeda       Lithuania       NaN   \n",
      "17               NaN      Luxembourg       NaN   \n",
      "18               NaN           Malta       NaN   \n",
      "19               NaN     Netherlands       NaN   \n",
      "20               NaN          Poland       NaN   \n",
      "21  Viana Do Castelo        Portugal       NaN   \n",
      "22            Braila         Romania  810077.0   \n",
      "23            Braila         Romania  810077.0   \n",
      "24            Braila         Romania  810077.0   \n",
      "25            Braila         Romania  810077.0   \n",
      "26               NaN        Slovakia       NaN   \n",
      "27               NaN        Slovenia       NaN   \n",
      "28               NaN           Spain       NaN   \n",
      "29               NaN          Sweden       NaN   \n",
      "30               NaN     Switzerland       NaN   \n",
      "31        Sunderland  United Kingdom       NaN   \n",
      "32        Sunderland  United Kingdom       NaN   \n",
      "\n",
      "                                            address  replaced_onsiteprice  \n",
      "0                                2 Dolomitenstrasse             12.060000  \n",
      "1                                               NaN             54.589286  \n",
      "2                                               NaN             18.826667  \n",
      "3                                               NaN             41.282000  \n",
      "4                                               NaN             35.880769  \n",
      "5                                      Dukelska 178             14.800000  \n",
      "6                                               NaN             58.844000  \n",
      "7                                               NaN             84.365714  \n",
      "8                                               NaN             51.378571  \n",
      "9                         31 Rue du Docteur Fardeau             33.150000  \n",
      "10                      Kaiser-Friedrich-Strasse 51             44.400000  \n",
      "11                                              NaN             28.477500  \n",
      "12                                              NaN             26.268000  \n",
      "13                                              NaN             40.923333  \n",
      "14                                              NaN             27.186667  \n",
      "15                                              NaN             46.412222  \n",
      "16                                         Slakiu 4             33.460000  \n",
      "17                                              NaN            100.320000  \n",
      "18                                              NaN             49.173699  \n",
      "19                                              NaN             47.190000  \n",
      "20                                              NaN             21.420000  \n",
      "21  Estrada Nacional 13, Rua das flores 115, Darque             13.030000  \n",
      "22                            Soseaua Focsani, Km 5             11.800000  \n",
      "23                            Soseaua Focsani, Km 5             11.800000  \n",
      "24                            Soseaua Focsani, Km 5             11.800000  \n",
      "25                            Soseaua Focsani, Km 5             11.800000  \n",
      "26                                              NaN             33.656000  \n",
      "27                                              NaN             40.370000  \n",
      "28                                              NaN             36.080909  \n",
      "29                                              NaN             43.330000  \n",
      "30                                              NaN             48.665000  \n",
      "31                                 High Street West             27.440000  \n",
      "32                                 High Street West             27.440000  \n"
     ]
    }
   ],
   "source": [
    "# Part (b):\n",
    "each_country_each_hotel = Order_x_Property.groupby( by = ['country','propertyid'])['replaced_onsiteprice'].agg(np.mean).reset_index()\n",
    "each_country_each_hotel\n",
    "\n",
    "min_price_per_country = each_country_each_hotel.groupby(by = ['country'])['replaced_onsiteprice'].agg(np.min).reset_index()\n",
    "min_price_per_country # no id now\n",
    "\n",
    "# show id again\n",
    "cheapest_properties_id = min_price_per_country.merge(each_country_each_hotel, on=['country', 'replaced_onsiteprice'], how='left')\n",
    "cheapest_properties_id \n",
    "\n",
    "# whole info\n",
    "cheapest_properties = cheapest_properties_id.merge(Order_x_Property, on=['country', 'replaced_onsiteprice', 'propertyid'], how='left')\n",
    "cheapest_properties\n",
    "\n",
    "columns = ['propertyid', 'propertyname', 'starrating', 'city', 'country', 'zipcode', 'address', 'replaced_onsiteprice']\n",
    "cheapest_properties = cheapest_properties[columns]\n",
    "print(cheapest_properties)"
   ]
  },
  {
   "cell_type": "markdown",
   "metadata": {},
   "source": [
    "### Part 2 (25 Points)\n",
    "\n",
    "For this part, we look at the logic and how you solve the problems. \n",
    "\n",
    "***Part (a):*** \n",
    "\n",
    "    1- You need to find \"5\" interesting business questions based on the datasets. Please make sure that these quastions are not similar with other groups...     \n",
    "    2- Write Python code to answer the questions.    \n",
    "    3- Visualize your results for each question. \n",
    "    \n",
    "\n",
    "***Part (b):***\n",
    "\n",
    "    Write a 300-word summary of your answers and business insights you get from answering these 5 questions based on your code. Ensure that you have clearly explained why we should care about your questions and your results. Clearly explain your findings.   \n",
    "\n",
    "***This part will be evaluated based on the following criteria:***\n",
    "\n",
    "    1. You need to ask five business-relevant questions. (5 points)\n",
    "    2. You need to answer these five questions using Python and the two datasets. (5 points)\n",
    "    3. You need to have at least \"5\" graphs to visualize your insights. (6 points)\n",
    "    4. Your executive summary should be well-written. (6 points)\n",
    "    5. Your results and business insights should be interesting and meaningful. (3 points)\n"
   ]
  },
  {
   "cell_type": "markdown",
   "metadata": {},
   "source": [
    "**Note**: You may use this cell to write your 5 questions\n",
    "\n",
    "**Question 1:** \n",
    "\n",
    "**Question 2:** \n",
    "\n",
    "**Question 3:** \n",
    "\n",
    "**Question 4:** \n",
    "\n",
    "**Question 5:** \n"
   ]
  },
  {
   "cell_type": "code",
   "execution_count": null,
   "metadata": {},
   "outputs": [],
   "source": [
    "# Your code to answer Question 1\n"
   ]
  },
  {
   "cell_type": "code",
   "execution_count": null,
   "metadata": {},
   "outputs": [],
   "source": [
    "# Your code to answer Question 2\n"
   ]
  },
  {
   "cell_type": "code",
   "execution_count": null,
   "metadata": {},
   "outputs": [],
   "source": [
    "# Your code to answer Question 3\n"
   ]
  },
  {
   "cell_type": "code",
   "execution_count": null,
   "metadata": {},
   "outputs": [],
   "source": [
    "# Your code to answer Question 4\n"
   ]
  },
  {
   "cell_type": "code",
   "execution_count": null,
   "metadata": {},
   "outputs": [],
   "source": [
    "# Your code to answer Question 5\n"
   ]
  },
  {
   "cell_type": "markdown",
   "metadata": {},
   "source": [
    "### Executive Summary & Business insights:\n",
    "\n",
    "\n",
    "**Note**: You need to use the cell below to write your executive summary & business insights.\n",
    "If you need more space use enter to go to the next line.\n"
   ]
  },
  {
   "cell_type": "markdown",
   "metadata": {},
   "source": [
    "## Write here:\n"
   ]
  },
  {
   "cell_type": "markdown",
   "metadata": {},
   "source": [
    "### Grading:\n",
    "\n",
    "PART 1 - 75 points (85 points with the extra credits in the Bonus Question)\n",
    "\n",
    "- Question 1: 9 points (6 points for part (a) and 3 points for part (b))\n",
    "- Question 2: 15 points (9 points for part (a) and 6 points for part (b))\n",
    "- Question 3: 12 points (9 points for part (a) and 3 points for part (b))\n",
    "- Question 4: 21 points (9 points for part (a) and 12 points for part (b))\n",
    "- Question 5: 18 points (9 points for part (a) and 9 points for part (b))\n",
    "- Bonus Question: 10 points (extra credit): (8 points for part (a) and 2 points for part (b))\n",
    "\n",
    "\n",
    "\n",
    "\n",
    "PART 2 - 25 points \n",
    "- You need to ask five business-related questions (5 points).\n",
    "- You need to answer these five questions using Python and the two datasets (5 points).\n",
    "- You need to have at least \"5\" graphs to visualize your insights (6 points).\n",
    "- Your executive summary should be well-written (6 points).\n",
    "- Your results and business insights should be interesting and meaningful (3 points).\n",
    "\n",
    "\n",
    "Good Luck!"
   ]
  }
 ],
 "metadata": {
  "kernelspec": {
   "display_name": "Python 3 (ipykernel)",
   "language": "python",
   "name": "python3"
  },
  "language_info": {
   "codemirror_mode": {
    "name": "ipython",
    "version": 3
   },
   "file_extension": ".py",
   "mimetype": "text/x-python",
   "name": "python",
   "nbconvert_exporter": "python",
   "pygments_lexer": "ipython3",
   "version": "3.11.5"
  }
 },
 "nbformat": 4,
 "nbformat_minor": 2
}
